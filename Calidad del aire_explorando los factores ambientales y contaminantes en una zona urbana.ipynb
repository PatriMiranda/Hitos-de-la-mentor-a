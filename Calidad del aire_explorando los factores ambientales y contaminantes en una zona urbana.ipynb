{
 "cells": [
  {
   "cell_type": "markdown",
   "id": "3bac1dba",
   "metadata": {},
   "source": [
    "<center>\n",
    "\n",
    "# Universidad Nacional de Córdoba\n",
    "## Facultad de Matemática, Astronomía, Física y Computación\n",
    "## Diplomatura en Ciencia de Datos, Aprendizaje Automático y sus Aplicaciones\n",
    "\n",
    "</center>"
   ]
  },
  {
   "cell_type": "markdown",
   "id": "aa0df54d",
   "metadata": {},
   "source": [
    "--------------"
   ]
  },
  {
   "cell_type": "markdown",
   "id": "08682016",
   "metadata": {},
   "source": [
    "## Calidad del aire: explorando los factores ambientales y contaminantes en una zona urbana."
   ]
  },
  {
   "cell_type": "markdown",
   "id": "9440558f",
   "metadata": {},
   "source": [
    "<span style=\"font-family: Arial, sans-serif; font-size: 16px;\">\n",
    "    \n",
    "La calidad del aire es un tema importante en la agenda mundial de salud ambiental. Según la OMS (2018), los contaminantes atmosféricos son responsables de 1 de cada 9 muertes. Sin embargo, muchas partes del mundo carecen de datos básicos sobre la calidad del aire. \n",
    "    \n",
    "Este conjunto de datos contiene respuestas de un dispositivo multisensor de gases instalado en una zona significativamente contaminada en Italia. El objetivo es examinar cómo los factores ambientales y la concentración de contaminantes interactúan entre sí. Lo que permitirá comprender el nivel de contaminación del área urbana y utilizar la ciencia de datos para informar estrategias de salud ambiental y recomendaciones prácticas para mejorar la calidad del aire y proteger la salud de las personas que viven allí.  \n",
    "\n",
    "Los datos fueron tomados de https://archive.ics.uci.edu/dataset/360/air+quality \n",
    "    \n",
    "</span>"
   ]
  },
  {
   "cell_type": "markdown",
   "id": "49f028b9",
   "metadata": {},
   "source": [
    "<span style=\"font-family: Arial, sans-serif; font-size: 16px;\">\n",
    "    \n",
    "### Con éste proyecto trataremos de responder algunas de las siguientes preguntas:\n",
    "\n",
    "1.\t¿Cuáles son los valores mínimos y máximos de cada contaminante reportados en el estudio?\n",
    "\n",
    "2.\t¿Cómo varían las concentraciones de los contaminantes durante el día? \n",
    "\n",
    "3.\t¿Cómo se distribuyen los valores de los contaminantes aplicando gráficos de distribución? ¿existen valores anómalos en los datos que puedan afectar nuestros análisis?\n",
    "\n",
    "4.\t¿Los sensores utilizados en el estudio, están específicamente asociados a la medición de un contaminante en particular?\n",
    "\n",
    "5.\t¿Existe alguna relación entre las condiciones ambientales y la concentración de los contaminantes analizados? \n",
    "\n",
    "6.\t¿Hay correlación significativa entre las concentraciones de CO, C6H6, NMHC, NOx y NO2, y las respuestas de los sensores de gas S1, S2, S3, S4 y S5?\n",
    "\n",
    "7.\t¿Influyen las concentraciones de los contaminantes ambientales en el aumento de la temperatura?\n",
    "\n",
    "8.\t¿Existe alguna relación entre las cantidades de contaminantes CO, C6H6, NMHC, NOx y NO2 con la estación del año o el año de muestreo?\n",
    "\n",
    "9.\t¿Qué modelo predictivo ofrece el mejor ajuste para predecir las concentraciones de contaminantes basándonos en los factores ambientales y la respuesta de los sensores?\n",
    "\n",
    "</span>"
   ]
  },
  {
   "cell_type": "markdown",
   "id": "98035686",
   "metadata": {},
   "source": [
    "<span style=\"font-family: Arial, sans-serif; font-size: 16px;\">\n",
    "    \n",
    "### Dataset:\n",
    "    \n",
    "Consta de 9471 filas y 17 columnas, registrando promedios horarios de respuestas y concentraciones de gases, obtenidas por un analizador certificado mediante sensores químicos de óxido de metal (identificados como PT08.S1, S2, S3, S4 y S5), abarcando un periodo de 1 año. Los datos faltantes se han codificado como -200.\n",
    "\n",
    "**Variables a analizar**\n",
    "    \n",
    "1. **Fecha** (DD/MM/AAAA)\n",
    "    \n",
    "2. **Hora** (HH.MM.SS)\n",
    "    \n",
    "3. **CO (GT)**: concentración promedio horaria real de CO en mg/m3 (analizador de referencia)\n",
    "    \n",
    "4. **PT08.S1 (óxido de estaño)**: respuesta promedio horaria del sensor (nominalmente objetivo de CO)\n",
    "    \n",
    "5. **NMHC (GT)**: concentración total promedio horaria real de hidrocarburos no metánicos en microg/m3 (analizador de referencia)\n",
    "    \n",
    "6. **C6H6(GT)**: concentración de benceno promediada por hora real en microg/m3 (analizador de referencia)\n",
    "    \n",
    "7. **PT08.S2 (titania)**: respuesta promedio horaria del sensor (nominalmente dirigida a NMHC)\n",
    "    \n",
    "8. **NOx(GT)**: concentración de NOx promediada por hora real en ppb (analizador de referencia)\n",
    "    \n",
    "9. **PT08.S3 (óxido de tungsteno)**: respuesta promedio horaria del sensor (nominalmente objetivo de NOx)\n",
    "    \n",
    "10. **NO2(GT)**: concentración de NO2 promediada por hora real en microg/m3 (analizador de referencia)\n",
    "    \n",
    "11. **PT08.S4 (óxido de tungsteno)**: respuesta promedio horaria del sensor (nominalmente objetivo de NO2)\n",
    "    \n",
    "12. **PT08.S5 (óxido de indio)**: respuesta promedio horaria del sensor (nominalmente objetivo de O3)\n",
    "    \n",
    "13. **T**: Temperatura en °C\n",
    "    \n",
    "14. **HR**: Humedad relativa (%)\n",
    "    \n",
    "15. **AH**: Humedad Absoluta\n",
    "    \n",
    "</span>"
   ]
  },
  {
   "cell_type": "markdown",
   "id": "a9984c3e",
   "metadata": {},
   "source": [
    "<span style=\"font-family: Arial, sans-serif; font-size: 16px;\">\n",
    "    \n",
    "#### Para inspeccionar el conjunto de datos, acceder al siguiente repositorio:\n",
    "\n",
    "https://raw.githubusercontent.com/PatriMiranda/Calidad-de-Aire/main/AirQualityUCI.csv\n",
    "\n",
    "</span>"
   ]
  },
  {
   "cell_type": "markdown",
   "id": "da500faf",
   "metadata": {},
   "source": [
    "-----"
   ]
  },
  {
   "cell_type": "markdown",
   "id": "2ccab3f3",
   "metadata": {},
   "source": [
    "<span style=\"font-family: Arial, sans-serif; font-size: 16px;\">\n",
    "    \n",
    "### Hitos de la Mentoría\n",
    "    \n",
    "**Entrega 01/07 - Práctico 1 de análisis y visualización**\n",
    "    \n",
    "En este practico inicial de análisis y visualización de datos, vamos a explorar el dataset para conocer su estructura y contenido. Manipularemos y transformaremos los datos según sea necesario, aplicando estadística descriptiva para entender mejor las características de las variables, como son las concentraciones de contaminantes atmosféricos (CO, NMHC, C6H6, NOx, NO2), las respuestas de los sensores (PT08.S1, PT08.S2, PT08.S3, PT08.S4, PT08.S5) y las condiciones ambientales (temperatura, humedad relativa, humedad absoluta). \n",
    "    \n",
    "El objetivo principal de estas actividades es describir y comprender el comportamiento de los datos a través de visualizaciones efectivas, donde utilizaremos las librerías comúnmente empleadas en ciencia de datos lo que nos permitirá obtener los primeros insights de los datos. \n",
    "    \n",
    "</span>"
   ]
  },
  {
   "cell_type": "markdown",
   "id": "c20e87df",
   "metadata": {},
   "source": [
    "<span style=\"font-family: Arial, sans-serif; font-size: 16px;\">\n",
    "    \n",
    "**Entrega 29/07 - Práctico 2 de análisis exploratorio y curación de datos**\n",
    "\n",
    "En el análisis exploratorio y curación de datos, vamos a realizar la limpieza de los datos y hacer un exploratorio para identificar la información relevante proporcionada por el dataset. Observaremos detenidamente las variables definitivas con las que trabajaremos y la forma en cómo abordaremos los datos faltantes utilizando técnicas de imputación o eliminación según corresponda, para preservar la integridad de nuestro análisis y encontrar posibles relaciones entre las variables. \n",
    "    \n",
    "Este práctico es importante porque nos facilitará la selección del modelo más adecuado que aborde las preguntas y problemas del proyecto. \n",
    "\n",
    "</span>"
   ]
  },
  {
   "cell_type": "markdown",
   "id": "216333e8",
   "metadata": {},
   "source": [
    "<span style=\"font-family: Arial, sans-serif; font-size: 16px;\">\n",
    "\n",
    "**Entrega 12/08 - Video de presentación intermedia del proyecto y dataset**\n",
    "\n",
    "</span>"
   ]
  },
  {
   "cell_type": "markdown",
   "id": "2225b8b0",
   "metadata": {},
   "source": [
    "<span style=\"font-family: Arial, sans-serif; font-size: 16px;\">\n",
    "    \n",
    "**Entrega 16/09 - Práctico 3 se aprendizaje supervisado**\n",
    "\n",
    "En este tercer práctico de aprendizaje supervisado y/o no supervisado, aplicaremos modelos de clasificación, regresión, arboles de decisión o modelos más avanzados de Machine Learning como XGBoost y LightGBM con el objetivo de extraer los insights más relevantes y significativos que nos presenta el dataset. \n",
    "    \n",
    "El propósito es evaluar y comparar diferentes modelos para determinar cuál de ellos proporcionan la mejor precisión y capacidad predictiva con relación a las preguntas planteadas inicialmente. A través de este análisis, buscaremos proponer acciones efectivas para mitigar los impactos en la salud publica y el medio ambiente relacionados con la contaminación atmosférica.  \n",
    "\n",
    "</span>"
   ]
  },
  {
   "cell_type": "markdown",
   "id": "41836e4b",
   "metadata": {},
   "source": [
    "<span style=\"font-family: Arial, sans-serif; font-size: 16px;\">\n",
    "\n",
    "**Entrega 30/09 - Video de presentación final de mentoría**\n",
    "\n",
    "</span>"
   ]
  },
  {
   "cell_type": "markdown",
   "id": "e32e34bf",
   "metadata": {},
   "source": [
    "<span style=\"font-family: Arial, sans-serif; font-size: 16px;\">\n",
    "\n",
    "**Jornadas 15/11 y 16/11 - Presentación de mentorías**\n",
    "\n",
    "</span>"
   ]
  }
 ],
 "metadata": {
  "kernelspec": {
   "display_name": "Python 3 (ipykernel)",
   "language": "python",
   "name": "python3"
  },
  "language_info": {
   "codemirror_mode": {
    "name": "ipython",
    "version": 3
   },
   "file_extension": ".py",
   "mimetype": "text/x-python",
   "name": "python",
   "nbconvert_exporter": "python",
   "pygments_lexer": "ipython3",
   "version": "3.11.4"
  }
 },
 "nbformat": 4,
 "nbformat_minor": 5
}
